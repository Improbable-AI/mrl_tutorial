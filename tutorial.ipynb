{
 "cells": [
  {
   "cell_type": "markdown",
   "metadata": {},
   "source": [
    "# 6.S186 Hands-on Tutorial Walk-Through "
   ]
  },
  {
   "cell_type": "code",
   "execution_count": 1,
   "metadata": {},
   "outputs": [
    {
     "name": "stdout",
     "output_type": "stream",
     "text": [
      "Requirement already satisfied: dexhub-api in /Users/yhpark/anaconda3/envs/mrl/lib/python3.10/site-packages (0.6.4)\n",
      "Requirement already satisfied: requests in /Users/yhpark/anaconda3/envs/mrl/lib/python3.10/site-packages (from dexhub-api) (2.32.3)\n",
      "Requirement already satisfied: numpy>=1.14.0 in /Users/yhpark/anaconda3/envs/mrl/lib/python3.10/site-packages (from dexhub-api) (1.26.4)\n",
      "Requirement already satisfied: scipy in /Users/yhpark/anaconda3/envs/mrl/lib/python3.10/site-packages (from dexhub-api) (1.15.1)\n",
      "Requirement already satisfied: mujoco in /Users/yhpark/anaconda3/envs/mrl/lib/python3.10/site-packages (from dexhub-api) (3.2.7)\n",
      "Requirement already satisfied: dm-control in /Users/yhpark/anaconda3/envs/mrl/lib/python3.10/site-packages (from dexhub-api) (1.0.27)\n",
      "Requirement already satisfied: ipython>=5 in /Users/yhpark/anaconda3/envs/mrl/lib/python3.10/site-packages (from dexhub-api) (8.31.0)\n",
      "Requirement already satisfied: u-msgpack-python>=2.4.1 in /Users/yhpark/anaconda3/envs/mrl/lib/python3.10/site-packages (from dexhub-api) (2.8.0)\n",
      "Requirement already satisfied: tornado>=4.0.0 in /Users/yhpark/anaconda3/envs/mrl/lib/python3.10/site-packages (from dexhub-api) (6.4.2)\n",
      "Requirement already satisfied: pyzmq>=17.0.0 in /Users/yhpark/anaconda3/envs/mrl/lib/python3.10/site-packages (from dexhub-api) (26.2.0)\n",
      "Requirement already satisfied: pyngrok>=4.1.6 in /Users/yhpark/anaconda3/envs/mrl/lib/python3.10/site-packages (from dexhub-api) (7.2.3)\n",
      "Requirement already satisfied: pillow>=7.0.0 in /Users/yhpark/anaconda3/envs/mrl/lib/python3.10/site-packages (from dexhub-api) (11.1.0)\n",
      "Requirement already satisfied: imageio in /Users/yhpark/anaconda3/envs/mrl/lib/python3.10/site-packages (from dexhub-api) (2.36.1)\n",
      "Requirement already satisfied: matplotlib in /Users/yhpark/anaconda3/envs/mrl/lib/python3.10/site-packages (from dexhub-api) (3.10.0)\n",
      "Requirement already satisfied: ffmpeg in /Users/yhpark/anaconda3/envs/mrl/lib/python3.10/site-packages (from dexhub-api) (1.4)\n",
      "Requirement already satisfied: imageio-ffmpeg in /Users/yhpark/anaconda3/envs/mrl/lib/python3.10/site-packages (from dexhub-api) (0.6.0)\n",
      "Requirement already satisfied: decorator in /Users/yhpark/anaconda3/envs/mrl/lib/python3.10/site-packages (from ipython>=5->dexhub-api) (4.4.2)\n",
      "Requirement already satisfied: exceptiongroup in /Users/yhpark/anaconda3/envs/mrl/lib/python3.10/site-packages (from ipython>=5->dexhub-api) (1.2.2)\n",
      "Requirement already satisfied: jedi>=0.16 in /Users/yhpark/anaconda3/envs/mrl/lib/python3.10/site-packages (from ipython>=5->dexhub-api) (0.19.2)\n",
      "Requirement already satisfied: matplotlib-inline in /Users/yhpark/anaconda3/envs/mrl/lib/python3.10/site-packages (from ipython>=5->dexhub-api) (0.1.7)\n",
      "Requirement already satisfied: pexpect>4.3 in /Users/yhpark/anaconda3/envs/mrl/lib/python3.10/site-packages (from ipython>=5->dexhub-api) (4.9.0)\n",
      "Requirement already satisfied: prompt_toolkit<3.1.0,>=3.0.41 in /Users/yhpark/anaconda3/envs/mrl/lib/python3.10/site-packages (from ipython>=5->dexhub-api) (3.0.48)\n",
      "Requirement already satisfied: pygments>=2.4.0 in /Users/yhpark/anaconda3/envs/mrl/lib/python3.10/site-packages (from ipython>=5->dexhub-api) (2.19.1)\n",
      "Requirement already satisfied: stack_data in /Users/yhpark/anaconda3/envs/mrl/lib/python3.10/site-packages (from ipython>=5->dexhub-api) (0.6.3)\n",
      "Requirement already satisfied: traitlets>=5.13.0 in /Users/yhpark/anaconda3/envs/mrl/lib/python3.10/site-packages (from ipython>=5->dexhub-api) (5.14.3)\n",
      "Requirement already satisfied: typing_extensions>=4.6 in /Users/yhpark/anaconda3/envs/mrl/lib/python3.10/site-packages (from ipython>=5->dexhub-api) (4.12.2)\n",
      "Requirement already satisfied: PyYAML>=5.1 in /Users/yhpark/anaconda3/envs/mrl/lib/python3.10/site-packages (from pyngrok>=4.1.6->dexhub-api) (6.0.2)\n",
      "Requirement already satisfied: absl-py>=0.7.0 in /Users/yhpark/anaconda3/envs/mrl/lib/python3.10/site-packages (from dm-control->dexhub-api) (2.1.0)\n",
      "Requirement already satisfied: dm-env in /Users/yhpark/anaconda3/envs/mrl/lib/python3.10/site-packages (from dm-control->dexhub-api) (1.6)\n",
      "Requirement already satisfied: dm-tree!=0.1.2 in /Users/yhpark/anaconda3/envs/mrl/lib/python3.10/site-packages (from dm-control->dexhub-api) (0.1.8)\n",
      "Requirement already satisfied: glfw in /Users/yhpark/anaconda3/envs/mrl/lib/python3.10/site-packages (from dm-control->dexhub-api) (2.8.0)\n",
      "Requirement already satisfied: labmaze in /Users/yhpark/anaconda3/envs/mrl/lib/python3.10/site-packages (from dm-control->dexhub-api) (1.0.6)\n",
      "Requirement already satisfied: lxml in /Users/yhpark/anaconda3/envs/mrl/lib/python3.10/site-packages (from dm-control->dexhub-api) (5.3.0)\n",
      "Requirement already satisfied: protobuf>=3.19.4 in /Users/yhpark/anaconda3/envs/mrl/lib/python3.10/site-packages (from dm-control->dexhub-api) (4.25.5)\n",
      "Requirement already satisfied: pyopengl>=3.1.4 in /Users/yhpark/anaconda3/envs/mrl/lib/python3.10/site-packages (from dm-control->dexhub-api) (3.1.7)\n",
      "Requirement already satisfied: pyparsing>=3.0.0 in /Users/yhpark/anaconda3/envs/mrl/lib/python3.10/site-packages (from dm-control->dexhub-api) (3.2.1)\n",
      "Requirement already satisfied: setuptools!=50.0.0 in /Users/yhpark/anaconda3/envs/mrl/lib/python3.10/site-packages (from dm-control->dexhub-api) (75.1.0)\n",
      "Requirement already satisfied: tqdm in /Users/yhpark/anaconda3/envs/mrl/lib/python3.10/site-packages (from dm-control->dexhub-api) (4.67.1)\n",
      "Requirement already satisfied: etils[epath] in /Users/yhpark/anaconda3/envs/mrl/lib/python3.10/site-packages (from mujoco->dexhub-api) (1.11.0)\n",
      "Requirement already satisfied: contourpy>=1.0.1 in /Users/yhpark/anaconda3/envs/mrl/lib/python3.10/site-packages (from matplotlib->dexhub-api) (1.3.1)\n",
      "Requirement already satisfied: cycler>=0.10 in /Users/yhpark/anaconda3/envs/mrl/lib/python3.10/site-packages (from matplotlib->dexhub-api) (0.12.1)\n",
      "Requirement already satisfied: fonttools>=4.22.0 in /Users/yhpark/anaconda3/envs/mrl/lib/python3.10/site-packages (from matplotlib->dexhub-api) (4.55.3)\n",
      "Requirement already satisfied: kiwisolver>=1.3.1 in /Users/yhpark/anaconda3/envs/mrl/lib/python3.10/site-packages (from matplotlib->dexhub-api) (1.4.8)\n",
      "Requirement already satisfied: packaging>=20.0 in /Users/yhpark/anaconda3/envs/mrl/lib/python3.10/site-packages (from matplotlib->dexhub-api) (24.2)\n",
      "Requirement already satisfied: python-dateutil>=2.7 in /Users/yhpark/anaconda3/envs/mrl/lib/python3.10/site-packages (from matplotlib->dexhub-api) (2.9.0.post0)\n",
      "Requirement already satisfied: charset-normalizer<4,>=2 in /Users/yhpark/anaconda3/envs/mrl/lib/python3.10/site-packages (from requests->dexhub-api) (3.4.1)\n",
      "Requirement already satisfied: idna<4,>=2.5 in /Users/yhpark/anaconda3/envs/mrl/lib/python3.10/site-packages (from requests->dexhub-api) (3.10)\n",
      "Requirement already satisfied: urllib3<3,>=1.21.1 in /Users/yhpark/anaconda3/envs/mrl/lib/python3.10/site-packages (from requests->dexhub-api) (2.3.0)\n",
      "Requirement already satisfied: certifi>=2017.4.17 in /Users/yhpark/anaconda3/envs/mrl/lib/python3.10/site-packages (from requests->dexhub-api) (2024.12.14)\n",
      "Requirement already satisfied: parso<0.9.0,>=0.8.4 in /Users/yhpark/anaconda3/envs/mrl/lib/python3.10/site-packages (from jedi>=0.16->ipython>=5->dexhub-api) (0.8.4)\n",
      "Requirement already satisfied: ptyprocess>=0.5 in /Users/yhpark/anaconda3/envs/mrl/lib/python3.10/site-packages (from pexpect>4.3->ipython>=5->dexhub-api) (0.7.0)\n",
      "Requirement already satisfied: wcwidth in /Users/yhpark/anaconda3/envs/mrl/lib/python3.10/site-packages (from prompt_toolkit<3.1.0,>=3.0.41->ipython>=5->dexhub-api) (0.2.13)\n",
      "Requirement already satisfied: six>=1.5 in /Users/yhpark/anaconda3/envs/mrl/lib/python3.10/site-packages (from python-dateutil>=2.7->matplotlib->dexhub-api) (1.17.0)\n",
      "Requirement already satisfied: fsspec in /Users/yhpark/anaconda3/envs/mrl/lib/python3.10/site-packages (from etils[epath]->mujoco->dexhub-api) (2024.9.0)\n",
      "Requirement already satisfied: importlib_resources in /Users/yhpark/anaconda3/envs/mrl/lib/python3.10/site-packages (from etils[epath]->mujoco->dexhub-api) (6.5.2)\n",
      "Requirement already satisfied: zipp in /Users/yhpark/anaconda3/envs/mrl/lib/python3.10/site-packages (from etils[epath]->mujoco->dexhub-api) (3.21.0)\n",
      "Requirement already satisfied: executing>=1.2.0 in /Users/yhpark/anaconda3/envs/mrl/lib/python3.10/site-packages (from stack_data->ipython>=5->dexhub-api) (2.1.0)\n",
      "Requirement already satisfied: asttokens>=2.1.0 in /Users/yhpark/anaconda3/envs/mrl/lib/python3.10/site-packages (from stack_data->ipython>=5->dexhub-api) (3.0.0)\n",
      "Requirement already satisfied: pure_eval in /Users/yhpark/anaconda3/envs/mrl/lib/python3.10/site-packages (from stack_data->ipython>=5->dexhub-api) (0.2.3)\n",
      "Requirement already satisfied: tensorflow in /Users/yhpark/anaconda3/envs/mrl/lib/python3.10/site-packages (2.18.0)\n",
      "Requirement already satisfied: absl-py>=1.0.0 in /Users/yhpark/anaconda3/envs/mrl/lib/python3.10/site-packages (from tensorflow) (2.1.0)\n",
      "Requirement already satisfied: astunparse>=1.6.0 in /Users/yhpark/anaconda3/envs/mrl/lib/python3.10/site-packages (from tensorflow) (1.6.3)\n",
      "Requirement already satisfied: flatbuffers>=24.3.25 in /Users/yhpark/anaconda3/envs/mrl/lib/python3.10/site-packages (from tensorflow) (24.12.23)\n",
      "Requirement already satisfied: gast!=0.5.0,!=0.5.1,!=0.5.2,>=0.2.1 in /Users/yhpark/anaconda3/envs/mrl/lib/python3.10/site-packages (from tensorflow) (0.6.0)\n",
      "Requirement already satisfied: google-pasta>=0.1.1 in /Users/yhpark/anaconda3/envs/mrl/lib/python3.10/site-packages (from tensorflow) (0.2.0)\n",
      "Requirement already satisfied: libclang>=13.0.0 in /Users/yhpark/anaconda3/envs/mrl/lib/python3.10/site-packages (from tensorflow) (18.1.1)\n",
      "Requirement already satisfied: opt-einsum>=2.3.2 in /Users/yhpark/anaconda3/envs/mrl/lib/python3.10/site-packages (from tensorflow) (3.4.0)\n",
      "Requirement already satisfied: packaging in /Users/yhpark/anaconda3/envs/mrl/lib/python3.10/site-packages (from tensorflow) (24.2)\n",
      "Requirement already satisfied: protobuf!=4.21.0,!=4.21.1,!=4.21.2,!=4.21.3,!=4.21.4,!=4.21.5,<6.0.0dev,>=3.20.3 in /Users/yhpark/anaconda3/envs/mrl/lib/python3.10/site-packages (from tensorflow) (4.25.5)\n",
      "Requirement already satisfied: requests<3,>=2.21.0 in /Users/yhpark/anaconda3/envs/mrl/lib/python3.10/site-packages (from tensorflow) (2.32.3)\n",
      "Requirement already satisfied: setuptools in /Users/yhpark/anaconda3/envs/mrl/lib/python3.10/site-packages (from tensorflow) (75.1.0)\n",
      "Requirement already satisfied: six>=1.12.0 in /Users/yhpark/anaconda3/envs/mrl/lib/python3.10/site-packages (from tensorflow) (1.17.0)\n",
      "Requirement already satisfied: termcolor>=1.1.0 in /Users/yhpark/anaconda3/envs/mrl/lib/python3.10/site-packages (from tensorflow) (2.5.0)\n",
      "Requirement already satisfied: typing-extensions>=3.6.6 in /Users/yhpark/anaconda3/envs/mrl/lib/python3.10/site-packages (from tensorflow) (4.12.2)\n",
      "Requirement already satisfied: wrapt>=1.11.0 in /Users/yhpark/anaconda3/envs/mrl/lib/python3.10/site-packages (from tensorflow) (1.17.2)\n",
      "Requirement already satisfied: grpcio<2.0,>=1.24.3 in /Users/yhpark/anaconda3/envs/mrl/lib/python3.10/site-packages (from tensorflow) (1.69.0)\n",
      "Requirement already satisfied: tensorboard<2.19,>=2.18 in /Users/yhpark/anaconda3/envs/mrl/lib/python3.10/site-packages (from tensorflow) (2.18.0)\n",
      "Requirement already satisfied: keras>=3.5.0 in /Users/yhpark/anaconda3/envs/mrl/lib/python3.10/site-packages (from tensorflow) (3.8.0)\n",
      "Requirement already satisfied: numpy<2.1.0,>=1.26.0 in /Users/yhpark/anaconda3/envs/mrl/lib/python3.10/site-packages (from tensorflow) (1.26.4)\n",
      "Requirement already satisfied: h5py>=3.11.0 in /Users/yhpark/anaconda3/envs/mrl/lib/python3.10/site-packages (from tensorflow) (3.12.1)\n",
      "Requirement already satisfied: ml-dtypes<0.5.0,>=0.4.0 in /Users/yhpark/anaconda3/envs/mrl/lib/python3.10/site-packages (from tensorflow) (0.4.1)\n",
      "Requirement already satisfied: tensorflow-io-gcs-filesystem>=0.23.1 in /Users/yhpark/anaconda3/envs/mrl/lib/python3.10/site-packages (from tensorflow) (0.37.1)\n",
      "Requirement already satisfied: wheel<1.0,>=0.23.0 in /Users/yhpark/anaconda3/envs/mrl/lib/python3.10/site-packages (from astunparse>=1.6.0->tensorflow) (0.44.0)\n",
      "Requirement already satisfied: rich in /Users/yhpark/anaconda3/envs/mrl/lib/python3.10/site-packages (from keras>=3.5.0->tensorflow) (13.9.4)\n",
      "Requirement already satisfied: namex in /Users/yhpark/anaconda3/envs/mrl/lib/python3.10/site-packages (from keras>=3.5.0->tensorflow) (0.0.8)\n",
      "Requirement already satisfied: optree in /Users/yhpark/anaconda3/envs/mrl/lib/python3.10/site-packages (from keras>=3.5.0->tensorflow) (0.14.0)\n",
      "Requirement already satisfied: charset-normalizer<4,>=2 in /Users/yhpark/anaconda3/envs/mrl/lib/python3.10/site-packages (from requests<3,>=2.21.0->tensorflow) (3.4.1)\n",
      "Requirement already satisfied: idna<4,>=2.5 in /Users/yhpark/anaconda3/envs/mrl/lib/python3.10/site-packages (from requests<3,>=2.21.0->tensorflow) (3.10)\n",
      "Requirement already satisfied: urllib3<3,>=1.21.1 in /Users/yhpark/anaconda3/envs/mrl/lib/python3.10/site-packages (from requests<3,>=2.21.0->tensorflow) (2.3.0)\n",
      "Requirement already satisfied: certifi>=2017.4.17 in /Users/yhpark/anaconda3/envs/mrl/lib/python3.10/site-packages (from requests<3,>=2.21.0->tensorflow) (2024.12.14)\n",
      "Requirement already satisfied: markdown>=2.6.8 in /Users/yhpark/anaconda3/envs/mrl/lib/python3.10/site-packages (from tensorboard<2.19,>=2.18->tensorflow) (3.7)\n",
      "Requirement already satisfied: tensorboard-data-server<0.8.0,>=0.7.0 in /Users/yhpark/anaconda3/envs/mrl/lib/python3.10/site-packages (from tensorboard<2.19,>=2.18->tensorflow) (0.7.2)\n",
      "Requirement already satisfied: werkzeug>=1.0.1 in /Users/yhpark/anaconda3/envs/mrl/lib/python3.10/site-packages (from tensorboard<2.19,>=2.18->tensorflow) (3.1.3)\n",
      "Requirement already satisfied: MarkupSafe>=2.1.1 in /Users/yhpark/anaconda3/envs/mrl/lib/python3.10/site-packages (from werkzeug>=1.0.1->tensorboard<2.19,>=2.18->tensorflow) (3.0.2)\n",
      "Requirement already satisfied: markdown-it-py>=2.2.0 in /Users/yhpark/anaconda3/envs/mrl/lib/python3.10/site-packages (from rich->keras>=3.5.0->tensorflow) (3.0.0)\n",
      "Requirement already satisfied: pygments<3.0.0,>=2.13.0 in /Users/yhpark/anaconda3/envs/mrl/lib/python3.10/site-packages (from rich->keras>=3.5.0->tensorflow) (2.19.1)\n",
      "Requirement already satisfied: mdurl~=0.1 in /Users/yhpark/anaconda3/envs/mrl/lib/python3.10/site-packages (from markdown-it-py>=2.2.0->rich->keras>=3.5.0->tensorflow) (0.1.2)\n"
     ]
    }
   ],
   "source": [
    "!pip install dexhub-api --upgrade\n",
    "!pip install tensorflow\n",
    "# Graphics and plotting.\n",
    "!command -v ffmpeg >/dev/null || (apt update && apt install -y ffmpeg)\n",
    "!pip install -q mediapy"
   ]
  },
  {
   "cell_type": "code",
   "execution_count": 1,
   "metadata": {},
   "outputs": [
    {
     "name": "stdout",
     "output_type": "stream",
     "text": [
      "env: DEXHUB_API_TOKEN=32ypM1giGXZ9FfS6dYFrJbLD2z-dvRdfwNhOGW5Xr3U=\n"
     ]
    }
   ],
   "source": [
    "# set your API_KEY here\n",
    "%env DEXHUB_API_TOKEN=32ypM1giGXZ9FfS6dYFrJbLD2z-dvRdfwNhOGW5Xr3U="
   ]
  },
  {
   "cell_type": "code",
   "execution_count": 2,
   "metadata": {},
   "outputs": [
    {
     "name": "stderr",
     "output_type": "stream",
     "text": [
      "/Users/yhpark/anaconda3/envs/mrl/lib/python3.10/site-packages/tqdm/auto.py:21: TqdmWarning: IProgress not found. Please update jupyter and ipywidgets. See https://ipywidgets.readthedocs.io/en/stable/user_install.html\n",
      "  from .autonotebook import tqdm as notebook_tqdm\n"
     ]
    }
   ],
   "source": [
    "import dexhub\n",
    "import os \n",
    "import mujoco\n",
    "from mrl_utils.dataset_conversion import get_sim_and_dataset"
   ]
  },
  {
   "cell_type": "markdown",
   "metadata": {},
   "source": [
    "## Step 1. Load Dataset from DexHub"
   ]
  },
  {
   "cell_type": "code",
   "execution_count": 3,
   "metadata": {},
   "outputs": [],
   "source": [
    "# Specify the dataset UUID here \n",
    "\n",
    "dataset_uuid = \"eef4a4db-1359-4230-bc38-a85254525292\""
   ]
  },
  {
   "cell_type": "code",
   "execution_count": 4,
   "metadata": {},
   "outputs": [
    {
     "name": "stdout",
     "output_type": "stream",
     "text": [
      "Dataset eef4a4db-1359-4230-bc38-a85254525292 already downloaded and extracted to ./dataset_eef4a4db-1359-4230-bc38-a85254525292.\n",
      "Skipping video decoding for simulation data.\n"
     ]
    },
    {
     "name": "stderr",
     "output_type": "stream",
     "text": [
      "WARNING:root:Some cameras in your aloha robot don't have an fps matching the fps of your dataset.In this case, frames from lower fps cameras will be repeated to fill in the blanks.\n"
     ]
    },
    {
     "name": "stdout",
     "output_type": "stream",
     "text": [
      "Skipping video decoding for simulation data.\n",
      "Skipping video decoding for simulation data.\n"
     ]
    },
    {
     "name": "stderr",
     "output_type": "stream",
     "text": [
      "Map: 100%|██████████| 340/340 [00:00<00:00, 4558.73 examples/s]\n",
      "Creating parquet from Arrow format: 100%|██████████| 1/1 [00:00<00:00, 784.86ba/s]\n"
     ]
    },
    {
     "name": "stdout",
     "output_type": "stream",
     "text": [
      "Skipping video decoding for simulation data.\n"
     ]
    },
    {
     "name": "stderr",
     "output_type": "stream",
     "text": [
      "Map: 100%|██████████| 322/322 [00:00<00:00, 4901.79 examples/s]\n",
      "Creating parquet from Arrow format: 100%|██████████| 1/1 [00:00<00:00, 858.26ba/s]\n"
     ]
    },
    {
     "name": "stdout",
     "output_type": "stream",
     "text": [
      "Skipping video decoding for simulation data.\n"
     ]
    },
    {
     "name": "stderr",
     "output_type": "stream",
     "text": [
      "Map: 100%|██████████| 431/431 [00:00<00:00, 4898.21 examples/s]\n",
      "Creating parquet from Arrow format: 100%|██████████| 1/1 [00:00<00:00, 561.79ba/s]\n"
     ]
    },
    {
     "name": "stdout",
     "output_type": "stream",
     "text": [
      "Skipping video decoding for simulation data.\n"
     ]
    },
    {
     "name": "stderr",
     "output_type": "stream",
     "text": [
      "Map: 100%|██████████| 244/244 [00:00<00:00, 4741.00 examples/s]\n",
      "Creating parquet from Arrow format: 100%|██████████| 1/1 [00:00<00:00, 995.09ba/s]\n",
      "Generating train split: 1337 examples [00:00, 279480.91 examples/s]\n",
      "Compute mean, min, max:  99%|█████████▉| 167/168 [00:04<00:00, 41.66it/s]\n",
      "Compute std:  99%|█████████▉| 167/168 [00:03<00:00, 43.82it/s] \n",
      "Returning existing local_dir `/Users/yhpark/.cache/huggingface/lerobot/younghyopark/random810` as remote repo cannot be accessed in `snapshot_download` (None).\n",
      "WARNING:huggingface_hub._snapshot_download:Returning existing local_dir `/Users/yhpark/.cache/huggingface/lerobot/younghyopark/random810` as remote repo cannot be accessed in `snapshot_download` (None).\n",
      "Returning existing local_dir `/Users/yhpark/.cache/huggingface/lerobot/younghyopark/random810` as remote repo cannot be accessed in `snapshot_download` (None).\n",
      "WARNING:huggingface_hub._snapshot_download:Returning existing local_dir `/Users/yhpark/.cache/huggingface/lerobot/younghyopark/random810` as remote repo cannot be accessed in `snapshot_download` (None).\n"
     ]
    }
   ],
   "source": [
    "mjmodel, dataset, dim_info = get_sim_and_dataset(dataset_uuid, dataset_name=\"younghyopark/random\", num_next_actions=16)"
   ]
  },
  {
   "cell_type": "markdown",
   "metadata": {},
   "source": [
    "## Step 2. Create a Policy Network "
   ]
  },
  {
   "cell_type": "code",
   "execution_count": 5,
   "metadata": {},
   "outputs": [],
   "source": [
    "# TODO: fix that in data preprocessing\n",
    "dataset.meta.stats['observation.image'] = dataset.meta.stats['observation.images.main']\n",
    "\n",
    "from lerobot.common.policies.diffusion.configuration_diffusion import DiffusionConfig\n",
    "from lerobot.common.policies.diffusion.modeling_diffusion import DiffusionPolicy\n",
    "\n",
    "input_shapes = {\n",
    "      \"observation.image\": dim_info['obs_image'],\n",
    "      \"observation.state\": dim_info['obs_state'],\n",
    "      \"observation.environment_state\": dim_info['obs_environment_state'],\n",
    "    }\n",
    "cfg = DiffusionConfig(n_obs_steps=1, horizon=16, n_action_steps=8, input_shapes=input_shapes, output_shapes={\"action\": dim_info['action']})\n",
    "policy = DiffusionPolicy(cfg, dataset_stats=dataset.meta.stats)"
   ]
  },
  {
   "cell_type": "markdown",
   "metadata": {},
   "source": [
    "## Step 3. Train a Policy "
   ]
  },
  {
   "cell_type": "code",
   "execution_count": 6,
   "metadata": {},
   "outputs": [],
   "source": [
    "import torch\n",
    "\n",
    "training_steps = 5000\n",
    "device = torch.device(\"mps\")\n",
    "log_freq = 250\n",
    "\n",
    "policy.train()\n",
    "policy.to(device)\n",
    "\n",
    "optimizer = torch.optim.Adam(policy.parameters(), lr=1e-4)\n",
    "\n",
    "dataloader = torch.utils.data.DataLoader(\n",
    "    dataset,\n",
    "    num_workers=2,\n",
    "    batch_size=32,\n",
    "    shuffle=True,\n",
    "    pin_memory=device != torch.device(\"cpu\"),\n",
    "    drop_last=True,\n",
    ")"
   ]
  },
  {
   "cell_type": "code",
   "execution_count": null,
   "metadata": {},
   "outputs": [
    {
     "name": "stdout",
     "output_type": "stream",
     "text": [
      "step: 0 loss: 1.143\n"
     ]
    }
   ],
   "source": [
    "step = 0\n",
    "done = False\n",
    "while not done:\n",
    "    for batch in dataloader:\n",
    "        batch['observation.image'] = batch['observation.images.main'].unsqueeze(1)\n",
    "\n",
    "        batch = {k: v.to(device, non_blocking=True) for k, v in batch.items()}\n",
    "        output_dict = policy.forward(batch)\n",
    "        loss = output_dict[\"loss\"]\n",
    "        loss.backward()\n",
    "        optimizer.step()\n",
    "        optimizer.zero_grad()\n",
    "\n",
    "        if step % log_freq == 0:\n",
    "            print(f\"step: {step} loss: {loss.item():.3f}\")\n",
    "        step += 1\n",
    "        if step >= training_steps:\n",
    "            done = True\n",
    "            break"
   ]
  },
  {
   "cell_type": "markdown",
   "metadata": {},
   "source": [
    "## Step 4. Evaluate your Policy!"
   ]
  },
  {
   "cell_type": "markdown",
   "metadata": {},
   "source": []
  }
 ],
 "metadata": {
  "kernelspec": {
   "display_name": "mrl",
   "language": "python",
   "name": "python3"
  },
  "language_info": {
   "codemirror_mode": {
    "name": "ipython",
    "version": 3
   },
   "file_extension": ".py",
   "mimetype": "text/x-python",
   "name": "python",
   "nbconvert_exporter": "python",
   "pygments_lexer": "ipython3",
   "version": "3.10.16"
  }
 },
 "nbformat": 4,
 "nbformat_minor": 2
}
